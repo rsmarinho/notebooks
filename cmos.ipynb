{
 "cells": [
  {
   "cell_type": "code",
   "execution_count": 1,
   "metadata": {},
   "outputs": [],
   "source": [
    "import numpy as np\n",
    "import matplotlib.pyplot as plt\n",
    "from matplotlib.patches import Circle, Wedge, Polygon\n",
    "from shapely.geometry.polygon import LinearRing, Polygon\n",
    "\n",
    "from ipywidgets import interact#, interactive, fixed, interact_manual\n",
    "import ipywidgets as widgets"
   ]
  },
  {
   "cell_type": "code",
   "execution_count": 2,
   "metadata": {},
   "outputs": [
    {
     "output_type": "display_data",
     "data": {
      "text/plain": "interactive(children=(IntSlider(value=5, description='amplitude', max=10), IntSlider(value=3, description='fre…",
      "application/vnd.jupyter.widget-view+json": {
       "version_major": 2,
       "version_minor": 0,
       "model_id": "9a5951a6878d4846b0ae0a89be4dc27e"
      }
     },
     "metadata": {}
    },
    {
     "output_type": "execute_result",
     "data": {
      "text/plain": "<function __main__.plot_func(amplitude, frequency, phase)>"
     },
     "metadata": {},
     "execution_count": 2
    }
   ],
   "source": [
    "x = np.linspace(0, 2*np.pi, 501)\n",
    "# y = np.zeros(np.shape(x))\n",
    "\n",
    "def plot_func(amplitude, frequency, phase):\n",
    "    a0 = amplitude\n",
    "    f0 = frequency\n",
    "    p0 = phase\n",
    "    \n",
    "#     plt.xkcd()\n",
    "    fig = plt.figure()\n",
    "    ax = plt.subplot(111)\n",
    "        \n",
    "#     plt.xticks([])\n",
    "#     plt.yticks([])\n",
    "\n",
    "    ax.set_xlim([0, 2*np.pi])\n",
    "    ax.set_ylim([-10.1, 10.1])\n",
    "    \n",
    "    ax.set_xticks([0, np.pi/2, np.pi, 3*np.pi/2, 2*np.pi])\n",
    "#     ax.set_xticklabels([0, np.pi/2, np.pi, 3*np.pi/2])\n",
    "    \n",
    "    y = a0 * np.sin( f0 * x + p0 )\n",
    "    \n",
    "    plt.plot(x,y)\n",
    "    \n",
    "interact(plot_func,\n",
    "        amplitude=widgets.IntSlider(min=0,max=10,step=1,value=5),\n",
    "        frequency=widgets.IntSlider(min=0,max=6,step=1,value=3),\n",
    "        phase=widgets.IntSlider(min=0,max=2*np.pi,step=1,value=3))"
   ]
  },
  {
   "cell_type": "code",
   "execution_count": 3,
   "metadata": {},
   "outputs": [],
   "source": [
    "def plot_channel(Vgs, Vds):\n",
    "    Vgs = Vgs/10\n",
    "    Vds = Vds/10\n",
    "    \n",
    "    if Vgs > 0:\n",
    "        a0 = Vgs\n",
    "    else:\n",
    "        a0=0\n",
    "\n",
    "    if Vgs < VTH:\n",
    "        vds_interference = np.zeros(n_size)\n",
    "    else:\n",
    "        vds_interference = np.linspace(0, Vds, n_size)\n",
    "        with np.nditer(vds_interference, op_flags=['readwrite']) as it:\n",
    "            for x in it:\n",
    "                if x > Vgs:\n",
    "                    x[...] = Vgs\n",
    "                \n",
    "    # plt.xkcd()\n",
    "    fig = plt.figure(figsize=(15, 5))\n",
    "    \n",
    "    ax1 = plt.subplot(121)\n",
    "    ax1.set_xlim([0, 10])\n",
    "    ax1.set_ylim([-10.1, 5.1])\n",
    "    \n",
    "    \n",
    "    # gate metal\n",
    "    poly = Polygon([(4, 1), (6, 1), (6, 2), (4, 2), (4, 1)])\n",
    "    xx,yy = poly.exterior.xy\n",
    "    plt.plot(xx, yy, color='red', alpha=1, solid_capstyle='round')\n",
    "    \n",
    "    # gate oxide\n",
    "    poly = Polygon([(4, 0), (6, 0), (6, 1), (4, 1), (4, 0)])\n",
    "    xx,yy = poly.exterior.xy\n",
    "    plt.plot(xx, yy, color='black', alpha=0.4, solid_capstyle='round')\n",
    "        \n",
    "    plt.plot(x_channel, np.zeros(np.shape(x_channel)), color='black')\n",
    "    \n",
    "    plt.axis('off')\n",
    "\n",
    "    y_channel = -(vgs_channel + a0)\n",
    "    \n",
    "    plt.fill_between(x_channel,y_channel + vds_interference, alpha=0.4, color='red')\n",
    "    plt.plot(x_channel,y_channel + vds_interference, color='red')\n",
    "      \n",
    "    if Vgs < VTH:\n",
    "        plt.plot(x_channel, vth_channel, color='blue')\n",
    "        vds_interference = np.zeros(n_size)\n",
    "    else:\n",
    "        plt.plot(x_channel, y_channel + vds_interference, color='blue')\n",
    "    \n",
    "    #################\n",
    "    \n",
    "    x = np.linspace(0, 3, 101)\n",
    "    y = np.zeros(np.shape(x))\n",
    "    \n",
    "    for i in range(0,len(x)):\n",
    "        if x[i] <= Vgs - VTH:\n",
    "            y[i] = uncox*(W/L)*((Vgs-VTH)*x[i]-(x[i]**2)/2)\n",
    "        else:\n",
    "            y[i] = 0.5*uncox*(W/L)*(Vgs-VTH)**2\n",
    "    \n",
    "    x_under = np.linspace(0, Vds, 101)\n",
    "    y_under = np.zeros(np.shape(x_under))\n",
    "    \n",
    "    for i in range(0,len(x_under)):\n",
    "        if x_under[i] <= Vgs - VTH:\n",
    "            y_under[i] = uncox*(W/L)*((Vgs-VTH)*x_under[i]-(x_under[i]**2)/2)\n",
    "        else:\n",
    "            y_under[i] = 0.5*uncox*(W/L)*(Vgs-VTH)**2\n",
    "        \n",
    "    ax2 = plt.subplot(122)\n",
    "    ax2.set_xlim([0, 3])\n",
    "    ax2.set_ylim([-0.1, 2])\n",
    "#     plt.axis('off')\n",
    "    \n",
    "    plt.plot(x, y)\n",
    "    plt.fill_between(x_under, y_under, alpha=0.4, color='red')"
   ]
  },
  {
   "cell_type": "code",
   "execution_count": 4,
   "metadata": {},
   "outputs": [
    {
     "output_type": "display_data",
     "data": {
      "text/plain": "interactive(children=(IntSlider(value=19, description='Vgs', max=50, min=-50), IntSlider(value=19, description…",
      "application/vnd.jupyter.widget-view+json": {
       "version_major": 2,
       "version_minor": 0,
       "model_id": "15be0123701a4f099b82b8d862aab507"
      }
     },
     "metadata": {}
    },
    {
     "output_type": "execute_result",
     "data": {
      "text/plain": "<function __main__.plot_channel(Vgs, Vds)>"
     },
     "metadata": {},
     "execution_count": 4
    }
   ],
   "source": [
    "n_size = 11\n",
    "\n",
    "W = 10e-3\n",
    "L = 0.0018e-3\n",
    "VTH = 0.4\n",
    "uncox = 200e-6\n",
    "\n",
    "x_channel = np.linspace(4, 6, n_size)\n",
    "vgs_channel = np.zeros(np.shape(x_channel))\n",
    "vth_channel = -(np.zeros(np.shape(x_channel)) + VTH)\n",
    "vds_interference = np.zeros(np.shape(x_channel))\n",
    "\n",
    "interact(plot_channel,\n",
    "        Vgs=widgets.IntSlider(min=-50,max=50,step=1,value=19),\n",
    "        Vds=widgets.IntSlider(min=-5,max=25,step=1,value=19))"
   ]
  },
  {
   "cell_type": "code",
   "execution_count": null,
   "metadata": {},
   "outputs": [],
   "source": []
  }
 ],
 "metadata": {
  "kernelspec": {
   "display_name": "Python 3",
   "language": "python",
   "name": "python3"
  },
  "language_info": {
   "codemirror_mode": {
    "name": "ipython",
    "version": 3
   },
   "file_extension": ".py",
   "mimetype": "text/x-python",
   "name": "python",
   "nbconvert_exporter": "python",
   "pygments_lexer": "ipython3",
   "version": "3.6.8"
  }
 },
 "nbformat": 4,
 "nbformat_minor": 2
}