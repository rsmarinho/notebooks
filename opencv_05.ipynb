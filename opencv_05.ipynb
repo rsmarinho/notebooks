{
 "cells": [
  {
   "cell_type": "markdown",
   "metadata": {},
   "source": [
    "Aula 05: Utilização do Python + OpenCV no futebol de robôs\n",
    "\n",
    "Nessa aula iremos aprender como implementar os conhecimentos transmitidos no curso, para o vsss (Very Small size Soccer). Primeiro passo é compreender como funcionam os elementos do futebol de robôs.\n",
    "\n",
    "O _Very Small Size soccer (VSSS)_ tem como objetivo a competição de \"futebol\" entre times de robôs autônomos. Cada time é constituído de três robôs de até 7,5x7,5x7,5 cm de dimensão. O objetivo de cada time é fazer com que a bola entre no gol do time adversário de forma autônoma, através do desenvolvimento de tecnologias de inteligência artificial, reconhecimento de imagem, eletrônica e mecânica. O foco da competição da VSSS está na cooperação e no controle multi-agente inteligente em um ambiente altamente dinâmico com um sistema híbrido (centralizado/distribuído) e no reconhecimento dos robôs pela visão. Ou seja, é necessário fazer com que os robôs joguem coletivamente ao realizar passes e jogadas."
   ]
  },
  {
   "cell_type": "markdown",
   "metadata": {},
   "source": [
    "<img src=\"assets/foto_vss.png\" width=\"500\"/>"
   ]
  },
  {
   "cell_type": "markdown",
   "metadata": {},
   "source": [
    "A visão é formada por uma câmera para cada time, cada um com o seu próprio sistema de visão para rastrear todos os objetos no campo. Cada equipe possui o seu computador que recebe os comandos do juiz e deve inferir a posição dos robôs nos dados enviados pela câmera. Os computadores fazem o processamento necessário para a coordenação e controle dos robôs sendo a comunicação com os robôs feita via wireless."
   ]
  },
  {
   "cell_type": "code",
   "execution_count": 1,
   "metadata": {},
   "outputs": [],
   "source": [
    "import numpy as np\n",
    "import cv2"
   ]
  },
  {
   "cell_type": "code",
   "execution_count": 2,
   "metadata": {},
   "outputs": [],
   "source": [
    "def camera_test(camera):\n",
    "    if camera:\n",
    "        # if iyou want to use camera \n",
    "        cap = cv2.VideoCapture(0)\n",
    "        print(cap)\n",
    "    else:\n",
    "        # use video file instead of camera\n",
    "        cap = cv2.VideoCapture('img/sample_ufpbots.mp4')\n",
    "    return cap"
   ]
  },
  {
   "cell_type": "code",
   "execution_count": 3,
   "metadata": {},
   "outputs": [
    {
     "name": "stdout",
     "output_type": "stream",
     "text": [
      "<VideoCapture 0x7fb52e7fa430>\n"
     ]
    }
   ],
   "source": [
    "cap = camera_test(True)"
   ]
  },
  {
   "cell_type": "code",
   "execution_count": 4,
   "metadata": {},
   "outputs": [],
   "source": [
    "cap.release()"
   ]
  },
  {
   "cell_type": "markdown",
   "metadata": {},
   "source": [
    "## 5.1 - Separando um objeto no campo"
   ]
  },
  {
   "cell_type": "markdown",
   "metadata": {},
   "source": [
    "Para separarmos um objeto no campo utilizando o openCV, faremos uso de algumas funções para identificar diferentes areas em um vídeo (ou frames oriundos de uma câmera). Essas funções são têm diferentes classificações na estrutura da biblioteca e executam tarefas diferentes cada uma delas. As funções que serão utilizadas nesse exemplo são:\n",
    "\n",
    "* `cv2.cvtColor(variavelimagem, conversão)`\n",
    "* `cv2.inRange(variavelimagem, pontomin, pontomax)`\n",
    "* `cv2.contourArea(contorno)`\n",
    "* `cv2.findContours(mascara, cv2.RETR_TREE, cv2.CHAIN_APPROX_SIMPLE)`\n",
    "* `cv2.erode(mask, None, iterations=2)`\n",
    "* `cv2.dilate(mask, None, iterations=2)`\n"
   ]
  },
  {
   "cell_type": "markdown",
   "metadata": {},
   "source": [
    "### 5.1.1 - cvtColor"
   ]
  },
  {
   "cell_type": "markdown",
   "metadata": {},
   "source": [
    "parâmetros : \n",
    "* **variavelimagem** é onde colocamos a imagem, vídeo ou captura de imagem;\n",
    "* **conversão** é onde colocamos o parâmetro que vai transformar de BGR para HSV(hue (matiz), saturation (saturação) e value (valor).), no nosso caso iremos usar o cv2.COLOR_BGR2HSV\n",
    "\n",
    "Agora, com a função inRange iremos criar uma máscara que vai, filtrar e mostrar apenas os valores de cores delimitados por um intervalo que vamos definir.\n"
   ]
  },
  {
   "cell_type": "code",
   "execution_count": null,
   "metadata": {},
   "outputs": [],
   "source": []
  },
  {
   "cell_type": "markdown",
   "metadata": {},
   "source": [
    "### 5.1.2 - inRange"
   ]
  },
  {
   "cell_type": "markdown",
   "metadata": {},
   "source": [
    "Antes de mostrarmos os parâmetros dessa função, iremos ter que definir dois vetores multidimensionais utilizando a função np.array([hue,saturation,value]),criaremos um vetor para a intensidade máxima do objeto( campo) outro pra a intensidade mínima. Tendo isso em mente podemos mostrar os pârametros do inRange.\n",
    "\n",
    "Parâmetros : \n",
    "* **variavelimagem** :é onde colocamos a imagem, vídeo ou captura de imagem;\n",
    "* **pontomin** : é aquele vetor que contém a intensidade mínima da cor que estamos procurando;\n",
    "* **pontomax** : é o vetor que contém a intensidade máxima da cor que estamos procurando.\n",
    "             \n",
    "Dito isso, para acharmos a borda do campo, temos que ver qual o intervalo de HSV se encontra esse branco, que podemos verificar na janela do opencv. Para encontrar a bolinha é da mesma forma, só que mudaremos o intervalo do HSV."
   ]
  },
  {
   "cell_type": "code",
   "execution_count": null,
   "metadata": {},
   "outputs": [],
   "source": []
  },
  {
   "cell_type": "markdown",
   "metadata": {},
   "source": [
    "### 5.1.3 - contourArea"
   ]
  },
  {
   "cell_type": "markdown",
   "metadata": {},
   "source": [
    "A partir dos contornos achados iremos delimitar a área de cada possível contorno, aplicando a funçâo cv2.contourArea para cada contorno achado, fomando junto com outros comandos um vetor que armazena os contornos. A linha de código fica:"
   ]
  },
  {
   "cell_type": "code",
   "execution_count": null,
   "metadata": {},
   "outputs": [],
   "source": []
  },
  {
   "cell_type": "markdown",
   "metadata": {},
   "source": [
    "### 5.1.4 - findContours"
   ]
  },
  {
   "cell_type": "markdown",
   "metadata": {},
   "source": [
    "Ja sabemos como encontrar a bolinha, porém agora precisamos marca-la de alguma forma no campo, no nosso caso iremos usar um retângulo, mas para marcarmos a bolinha temos que determinar seus contornos com a função cv2.findContours.\n",
    "\n",
    "Parâmetros: \n",
    "* **mascara**: máscara criada com o inRange;\n",
    "* **cv2.RETR_TREE**: constrói uma hierarquia entre os contornos e concatena-os como uma pirâmide;\n",
    "* **cv2.CHAIN_APPROX_SIMPLE**: essa função comprime os segmentos verticais,horizontais e diagonais , deixando apenas seus pontos finais, como por exemplo num retângulo é deixado 4 pontos."
   ]
  },
  {
   "cell_type": "code",
   "execution_count": null,
   "metadata": {},
   "outputs": [],
   "source": []
  },
  {
   "cell_type": "markdown",
   "metadata": {},
   "source": [
    "### 5.1.5 - erode"
   ]
  },
  {
   "cell_type": "markdown",
   "metadata": {},
   "source": [
    "### 5.1.6 - dilate"
   ]
  },
  {
   "cell_type": "markdown",
   "metadata": {},
   "source": [
    "## 5.2 - Exemplo"
   ]
  },
  {
   "cell_type": "code",
   "execution_count": 5,
   "metadata": {},
   "outputs": [],
   "source": [
    "cap = camera_test(False)"
   ]
  },
  {
   "cell_type": "code",
   "execution_count": 6,
   "metadata": {},
   "outputs": [
    {
     "name": "stdout",
     "output_type": "stream",
     "text": [
      "a bola esta coberta\n",
      "a bola esta coberta\n",
      "a bola esta coberta\n",
      "a bola esta coberta\n",
      "a bola esta coberta\n",
      "a bola esta coberta\n",
      "a bola esta coberta\n",
      "a bola esta coberta\n",
      "a bola esta coberta\n",
      "a bola esta coberta\n",
      "a bola esta coberta\n",
      "a bola esta coberta\n",
      "a bola esta coberta\n",
      "a bola esta coberta\n",
      "a bola esta coberta\n",
      "a bola esta coberta\n",
      "a bola esta coberta\n",
      "a bola esta coberta\n",
      "a bola esta coberta\n",
      "a bola esta coberta\n",
      "a bola esta coberta\n",
      "a bola esta coberta\n"
     ]
    }
   ],
   "source": [
    "while(cap.isOpened()):\n",
    "    \n",
    "    rfm, frame = cap.read()\n",
    "    if not rfm:\n",
    "        break\n",
    "    HSV = cv2.cvtColor(frame,cv2.COLOR_BGR2HSV)\n",
    "    \n",
    "    BRANCO = np.array([150,50,255])\n",
    "    branco = np.array([84,2,174])\n",
    "    mascara = cv2.inRange(HSV,branco,BRANCO)\n",
    "    \n",
    "    maior_laranja = np.array([40,170,255])\n",
    "    menor_laranja = np.array([20,120,255])\n",
    "    mascara_bola = cv2.inRange(HSV,menor_laranja,maior_laranja)\n",
    "    \n",
    "    campo = mascara[62:434,79:558]\n",
    "    \n",
    "    try:\n",
    "        contours, hierarchy = cv2.findContours(mascara_bola, cv2.RETR_TREE, cv2.CHAIN_APPROX_SIMPLE)\n",
    "        contour_sizes = [(cv2.contourArea(contour), contour) for contour in contours]\n",
    "        biggest_contour = max(contour_sizes, key=lambda x: x[0])[1]\n",
    "        x, y, w, h = cv2.boundingRect(biggest_contour)\n",
    "        frame = cv2.rectangle(frame, (x, y), (x + w, y + h), (0, 0, 255), 2)\n",
    "    except:\n",
    "        print(\"a bola esta coberta\")\n",
    "    \n",
    "    \n",
    "    cv2.imshow(\"campo\",campo)\n",
    "    cv2.imshow(\"bola\", frame)\n",
    "    \n",
    "    if cv2.waitKey(1) & 0xFF == ord('q'):\n",
    "        break\n",
    "cap.release()\n",
    "cv2.destroyAllWindows()"
   ]
  },
  {
   "cell_type": "code",
   "execution_count": null,
   "metadata": {},
   "outputs": [],
   "source": []
  },
  {
   "cell_type": "code",
   "execution_count": null,
   "metadata": {},
   "outputs": [],
   "source": []
  }
 ],
 "metadata": {
  "kernelspec": {
   "display_name": "Python 3",
   "language": "python",
   "name": "python3"
  },
  "language_info": {
   "codemirror_mode": {
    "name": "ipython",
    "version": 3
   },
   "file_extension": ".py",
   "mimetype": "text/x-python",
   "name": "python",
   "nbconvert_exporter": "python",
   "pygments_lexer": "ipython3",
   "version": "3.6.8"
  }
 },
 "nbformat": 4,
 "nbformat_minor": 2
}
