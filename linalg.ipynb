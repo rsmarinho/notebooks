{
 "cells": [
  {
   "cell_type": "code",
   "execution_count": 1,
   "metadata": {},
   "outputs": [],
   "source": [
    "from sympy import *\n",
    "# A, B = symbols('A B')"
   ]
  },
  {
   "cell_type": "markdown",
   "metadata": {},
   "source": [
    "# Linear Algebra\n",
    "## Vectors\n",
    "\n",
    "*Definition*: A vector is represented by an arrow containing a size and direction (spatial orientation). A vector can be represented by a letter with a arrow over it $\\overrightarrow{a}$ or $\\overrightarrow{A}$ for example. The vector size represents the numerical value of the represented variable, and its orientation represents the direction and orientation for where the variable is pointing.\n",
    "\n",
    "In a 2d plane, for example, we can use a vector from the point $P(x_0,y_0)=(0,0)$ to a point $P(x_1,y_1)=(5,6)$ to represent the distance traveled by a person in numbers of blocks. In our example, a person can walk five blocks in the $x$ direction and six blocks in $y$ direction. Mathematicaly, this vector is represented as:\n",
    "$$\n",
    "|\\overrightarrow{C}|^2=|\\overrightarrow{A}|^2+|\\overrightarrow{B}|^2\\\\\n",
    "|\\overrightarrow{C}|=\\sqrt{|\\overrightarrow{A}|^2+|\\overrightarrow{B}|^2}\n",
    "$$"
   ]
  },
  {
   "cell_type": "code",
   "execution_count": 2,
   "metadata": {},
   "outputs": [
    {
     "data": {
      "text/latex": [
       "$\\displaystyle \\left[\\begin{matrix}5.0\\\\0\\end{matrix}\\right]$"
      ],
      "text/plain": [
       "Matrix([\n",
       "[5.0],\n",
       "[  0]])"
      ]
     },
     "execution_count": 2,
     "metadata": {},
     "output_type": "execute_result"
    }
   ],
   "source": [
    "# Defining a vector A = (x,y) = (5,0)\n",
    "# Vector A has size 5 in x direction\n",
    "A = Matrix([5,0])\n",
    "A.n()"
   ]
  },
  {
   "cell_type": "code",
   "execution_count": 3,
   "metadata": {},
   "outputs": [
    {
     "data": {
      "text/latex": [
       "$\\displaystyle \\left[\\begin{matrix}0\\\\6.0\\end{matrix}\\right]$"
      ],
      "text/plain": [
       "Matrix([\n",
       "[  0],\n",
       "[6.0]])"
      ]
     },
     "execution_count": 3,
     "metadata": {},
     "output_type": "execute_result"
    }
   ],
   "source": [
    "# Defining a vector B = (x,y) = (0,6)\n",
    "# Vector B has size 6 in y direction\n",
    "B = Matrix([0,6])\n",
    "B.n()"
   ]
  },
  {
   "cell_type": "code",
   "execution_count": 4,
   "metadata": {},
   "outputs": [
    {
     "data": {
      "text/latex": [
       "$\\displaystyle \\left[\\begin{matrix}5.0\\\\6.0\\end{matrix}\\right]$"
      ],
      "text/plain": [
       "Matrix([\n",
       "[5.0],\n",
       "[6.0]])"
      ]
     },
     "execution_count": 4,
     "metadata": {},
     "output_type": "execute_result"
    }
   ],
   "source": [
    "# In sympy we can sum vectors as C=A+B\n",
    "C = A + B\n",
    "C.n()"
   ]
  },
  {
   "cell_type": "code",
   "execution_count": 5,
   "metadata": {},
   "outputs": [
    {
     "data": {
      "text/latex": [
       "$\\displaystyle \\sqrt{61}$"
      ],
      "text/plain": [
       "sqrt(61)"
      ]
     },
     "execution_count": 5,
     "metadata": {},
     "output_type": "execute_result"
    }
   ],
   "source": [
    "# the size of the generated vector C\n",
    "# is sqrt(A**2+B**2). In Linear Algebra\n",
    "# this value is know as the norm of a \n",
    "# vector, this value is obtained in sympy\n",
    "# when using the method .norm() of the\n",
    "# Matrix type.\n",
    "C.norm()"
   ]
  },
  {
   "cell_type": "code",
   "execution_count": 6,
   "metadata": {},
   "outputs": [
    {
     "data": {
      "text/latex": [
       "$\\displaystyle 0$"
      ],
      "text/plain": [
       "0"
      ]
     },
     "execution_count": 6,
     "metadata": {},
     "output_type": "execute_result"
    }
   ],
   "source": [
    "# Also note that the vector A is perpendicular\n",
    "# to the vecor B. This means that there is0\n",
    "# no shading between these vectors. Although it\n",
    "# was already a known fact, now we can demonstrate\n",
    "# using the dot product between the two vectors\n",
    "A.dot(B)"
   ]
  },
  {
   "cell_type": "markdown",
   "metadata": {},
   "source": [
    "The inner product (also known as dot product) between two vectors is performed by multiplying each component of the vector  $A$ by the corresponding component on the same directions of vector $B$, and later summing all the results. The result of this operation is a scalar number (not a vector), and is represented by\n",
    "$$\n",
    "dot(\\overrightarrow{A},\\overrightarrow{B})=\\overrightarrow{A}\\cdot\\overrightarrow{B}=\\sum_{n}a_n\\cdot b_n\n",
    "$$"
   ]
  },
  {
   "cell_type": "markdown",
   "metadata": {},
   "source": [
    "In the vector representation of $\\overrightarrow{A}$, $\\overrightarrow{B}$ and $\\overrightarrow{C}$, it is necessaty to use a notation that specifies the \"quantity\" of *unity vectors* necessary in each direction to form each of the vector. A more complete notation is therefore\n",
    "$$\n",
    "\\overrightarrow{A} = x\\hat{i} + y\\hat{j}\n",
    "$$\n",
    "where $\\hat{i}$ and $\\hat{j}$ are unity vectors (vector of size one) in directions $i$ and $j$ respectively. In such case, $x$ and $y$ represents the size of vector $A$ in $i$ and $j$ directions respectively and are scalars."
   ]
  },
  {
   "cell_type": "code",
   "execution_count": 7,
   "metadata": {},
   "outputs": [
    {
     "name": "stdout",
     "output_type": "stream",
     "text": [
      "Matrix([[5*sqrt(61)/61], [6*sqrt(61)/61]])\n"
     ]
    }
   ],
   "source": [
    "Chat=C/C.norm()\n",
    "print(Chat)"
   ]
  },
  {
   "cell_type": "code",
   "execution_count": 8,
   "metadata": {},
   "outputs": [
    {
     "data": {
      "text/latex": [
       "$\\displaystyle 1$"
      ],
      "text/plain": [
       "1"
      ]
     },
     "execution_count": 8,
     "metadata": {},
     "output_type": "execute_result"
    }
   ],
   "source": [
    "Chat.dot(Chat)"
   ]
  },
  {
   "cell_type": "code",
   "execution_count": null,
   "metadata": {},
   "outputs": [],
   "source": []
  }
 ],
 "metadata": {
  "kernelspec": {
   "display_name": "Python 3",
   "language": "python",
   "name": "python3"
  },
  "language_info": {
   "codemirror_mode": {
    "name": "ipython",
    "version": 3
   },
   "file_extension": ".py",
   "mimetype": "text/x-python",
   "name": "python",
   "nbconvert_exporter": "python",
   "pygments_lexer": "ipython3",
   "version": "3.6.8"
  }
 },
 "nbformat": 4,
 "nbformat_minor": 2
}
